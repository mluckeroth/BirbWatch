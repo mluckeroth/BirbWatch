{
 "cells": [
  {
   "cell_type": "markdown",
   "metadata": {},
   "source": [
    "### Test out 'Collection' framework"
   ]
  },
  {
   "cell_type": "code",
   "execution_count": 3,
   "metadata": {},
   "outputs": [],
   "source": [
    "import random\n",
    "\n",
    "\n",
    "def flip(H, T, p):\n",
    "    return H if random.random() < p else T\n",
    "\n",
    "\n",
    "def stream_gen():\n",
    "    \"\"\"\n",
    "    Generator Function:\n",
    "    Simulate output from the inference machine on the video stream\n",
    "    \"\"\"\n",
    "    birbs = ['American Coot', 'Canvasback', 'Gadwall', 'Ring-necked Duck', 'Wood Duck', 'American Kestral',\n",
    "            'Coopers Hawk', 'Red-tailed Hawk', 'Rufous Hummingbird', 'American Robin', 'American Bittern', \n",
    "            'Great Egret', 'Black-capped Chickadee', 'Bushtit', 'Common Yellowthroat', 'Dark-eyed Junco', \n",
    "            'Golden-crowned Kinglet', 'Marsh Wren', 'Pine Siskin', 'Orange-crowned Warbler', 'House Finch',\n",
    "            'Scrub Jay', 'Townsends Warbler', 'Winter Wren', 'Yellow Warbler', 'Barn Swallow', 'Flicker',\n",
    "            'Pileated Woodpecker', 'Grouse', 'Pheasant', 'Tree Swallow', 'Swift', 'Olive-eyed Flycatcher']\n",
    "    last_birb = birbs[0]\n",
    "    random.seed(42)\n",
    "    while True:\n",
    "        random_birb = random.choice(birbs)\n",
    "        output_birb = flip(last_birb, random_birb, 0.65)\n",
    "        last_birb = output_birb\n",
    "        output_prob = random.random()*0.5 + 0.5\n",
    "        yield (output_birb, output_prob)"
   ]
  },
  {
   "cell_type": "code",
   "execution_count": 4,
   "metadata": {},
   "outputs": [
    {
     "name": "stdout",
     "output_type": "stream",
     "text": [
      "('American Coot', 0.6375146591845596)\n",
      "('American Coot', 0.5512475880857537)\n",
      "('American Coot', 0.5158913397408917)\n",
      "('American Coot', 0.7526776440516811)\n",
      "('American Coot', 0.8580098064612017)\n",
      "('American Coot', 0.7946328419379544)\n",
      "('American Coot', 0.579829658188445)\n",
      "('American Coot', 0.5777397499058907)\n",
      "('American Coot', 0.6899636503186687)\n",
      "('Townsends Warbler', 0.8018630156834455)\n",
      "('Gadwall', 0.7681140457273503)\n",
      "('Gadwall', 0.6465891407035464)\n",
      "('Gadwall', 0.8522859181074618)\n",
      "('Gadwall', 0.8865341703943459)\n",
      "('American Kestral', 0.9332418333776349)\n",
      "('American Kestral', 0.8178422221322001)\n",
      "('American Kestral', 0.6776353501137607)\n",
      "('Marsh Wren', 0.8417738327683336)\n",
      "('Marsh Wren', 0.5855693240990485)\n",
      "('Marsh Wren', 0.689727720878824)\n",
      "('Common Yellowthroat', 0.9214259600949049)\n",
      "('Common Yellowthroat', 0.5160501219520188)\n",
      "('Common Yellowthroat', 0.5330943026057736)\n",
      "('Common Yellowthroat', 0.7496156297461387)\n",
      "('Common Yellowthroat', 0.5698151597627532)\n"
     ]
    }
   ],
   "source": [
    "import time\n",
    "stream = stream_gen()\n",
    "\n",
    "for i in range(25):\n",
    "    print(next(stream))\n",
    "    time.sleep(0.1)"
   ]
  },
  {
   "cell_type": "code",
   "execution_count": 24,
   "metadata": {},
   "outputs": [
    {
     "name": "stdout",
     "output_type": "stream",
     "text": [
      "deque(['Pheasant', 'Pheasant', 'Pheasant', 'Pheasant', 'Pheasant', 'Pheasant', 'Pheasant', 'Pheasant', 'Pheasant', 'Pheasant', 'Pheasant', 'Pheasant', 'Pheasant', 'Marsh Wren', 'Pine Siskin', 'Pine Siskin', 'American Coot', 'Gadwall', 'Gadwall', 'Coopers Hawk', 'Coopers Hawk', 'Coopers Hawk', 'Red-tailed Hawk', 'Red-tailed Hawk', 'Red-tailed Hawk', 'Red-tailed Hawk', 'Red-tailed Hawk', 'Common Yellowthroat', 'Common Yellowthroat', 'Common Yellowthroat', 'Coopers Hawk', 'Coopers Hawk', 'Coopers Hawk', 'Coopers Hawk', 'Coopers Hawk', 'Pine Siskin', 'Common Yellowthroat', 'Common Yellowthroat', 'American Robin', 'American Robin', 'American Robin', 'Orange-crowned Warbler', 'Orange-crowned Warbler', 'Gadwall', 'Gadwall', 'Canvasback', 'Canvasback', 'Canvasback', 'Canvasback', 'Swift'], maxlen=50)\n"
     ]
    }
   ],
   "source": [
    "import collections\n",
    "\n",
    "collector = collections.deque([], maxlen=50)\n",
    "\n",
    "for i in range(55):\n",
    "    collector.append(next(stream)[0])\n",
    "\n",
    "print(collector)"
   ]
  },
  {
   "cell_type": "code",
   "execution_count": 25,
   "metadata": {},
   "outputs": [
    {
     "name": "stdout",
     "output_type": "stream",
     "text": [
      "not empty\n"
     ]
    }
   ],
   "source": [
    "\n",
    "if len(collector) > 5:\n",
    "    print('not empty')"
   ]
  },
  {
   "cell_type": "code",
   "execution_count": 20,
   "metadata": {},
   "outputs": [
    {
     "data": {
      "text/plain": [
       "'common yellowthroat'"
      ]
     },
     "execution_count": 20,
     "metadata": {},
     "output_type": "execute_result"
    }
   ],
   "source": [
    "import itertools\n",
    "\n",
    "#classes = [('common yellowthroat', 0.555), ('common yellowthroat', 0.566), ('common yellowthroat', 0.577)]\n",
    "classes = [('common yellowthroat', 0.555)]\n",
    "list(itertools.chain(*classes))[0]\n"
   ]
  },
  {
   "cell_type": "markdown",
   "metadata": {},
   "source": [
    "### Create Filter/Switch to trigger logging"
   ]
  },
  {
   "cell_type": "code",
   "execution_count": 44,
   "metadata": {},
   "outputs": [
    {
     "name": "stdout",
     "output_type": "stream",
     "text": [
      "('Pileated Woodpecker', 6)\n"
     ]
    }
   ],
   "source": [
    "#adjustable logging rate\n",
    "#adjustable measure(s) of confidence\n",
    "\n",
    "\n",
    "def there_is_a():\n",
    "    cnt = collections.Counter()\n",
    "    for (name, conf) in collector:\n",
    "        if conf > 0.65: cnt[name] += 1\n",
    "    most_common = cnt.most_common(1)\n",
    "    if most_common[0][0] != 'background' and most_common[0][1] > 4:\n",
    "        return most_common[0]\n",
    "    else:\n",
    "        return False\n",
    "\n",
    "result = there_is_a()\n",
    "\n",
    "print(result)"
   ]
  },
  {
   "cell_type": "markdown",
   "metadata": {},
   "source": [
    "### Data Logger"
   ]
  },
  {
   "cell_type": "code",
   "execution_count": 43,
   "metadata": {},
   "outputs": [
    {
     "name": "stdout",
     "output_type": "stream",
     "text": [
      "2021-Jan-16_13:56\n"
     ]
    }
   ],
   "source": [
    "import datetime\n",
    "import pytz\n",
    "\n",
    "dt = datetime.datetime.now(tz=pytz.timezone('US/Pacific'))\n",
    "ts = dt.strftime(\"%Y-%b-%d_%H:%M\")\n",
    "print(ts)"
   ]
  },
  {
   "cell_type": "markdown",
   "metadata": {},
   "source": [
    "## Sun_up"
   ]
  },
  {
   "cell_type": "code",
   "execution_count": 57,
   "metadata": {},
   "outputs": [],
   "source": [
    "from astral.geocoder import add_locations, database, lookup\n",
    "db = database()\n",
    "from astral.geocoder import group\n",
    "europe = group(\"europe\", db)\n",
    "#sorted(europe.keys())\n",
    "#db"
   ]
  },
  {
   "cell_type": "code",
   "execution_count": 58,
   "metadata": {},
   "outputs": [
    {
     "name": "stdout",
     "output_type": "stream",
     "text": [
      "Information for Portland/OR, USA\n",
      "Timezone: US/Pacific\n",
      "Latitude: 45.51; Longitude: 122.67\n",
      "\n"
     ]
    }
   ],
   "source": [
    "from astral.sun import sun\n",
    "from astral import LocationInfo\n",
    "\n",
    "city = LocationInfo(\"Portland\", \"OR, USA\", \"US/Pacific\", 45.5051, 122.6750)\n",
    "print((\n",
    "    f\"Information for {city.name}/{city.region}\\n\"\n",
    "    f\"Timezone: {city.timezone}\\n\"\n",
    "    f\"Latitude: {city.latitude:.02f}; Longitude: {city.longitude:.02f}\\n\"))"
   ]
  },
  {
   "cell_type": "code",
   "execution_count": 59,
   "metadata": {},
   "outputs": [
    {
     "name": "stdout",
     "output_type": "stream",
     "text": [
      "Dawn:    2021-01-16 14:51:12.782011-08:00\n",
      "Sunrise: 2021-01-16 15:24:47.581745-08:00\n",
      "Noon:    2021-01-16 19:59:18-08:00\n",
      "Sunset:  2021-01-17 00:34:17.182033-08:00\n",
      "Dusk:    2021-01-17 01:07:53.018949-08:00\n",
      "\n"
     ]
    }
   ],
   "source": [
    "s = sun(city.observer, date=(datetime.datetime.today() + datetime.timedelta(days=1)), tzinfo=city.timezone)\n",
    "print((\n",
    "    f'Dawn:    {s[\"dawn\"]}\\n'\n",
    "    f'Sunrise: {s[\"sunrise\"]}\\n'\n",
    "    f'Noon:    {s[\"noon\"]}\\n'\n",
    "    f'Sunset:  {s[\"sunset\"]}\\n'\n",
    "    f'Dusk:    {s[\"dusk\"]}\\n'\n",
    "))"
   ]
  },
  {
   "cell_type": "code",
   "execution_count": 74,
   "metadata": {},
   "outputs": [],
   "source": [
    "local_sunset = s['sunset'] - datetime.timedelta(hours=8)\n",
    "local_sunrise = s['sunrise'] - datetime.timedelta(hours=8)"
   ]
  },
  {
   "cell_type": "code",
   "execution_count": 70,
   "metadata": {},
   "outputs": [
    {
     "data": {
      "text/plain": [
       "datetime.datetime(2021, 1, 16, 14, 16, 12, 902598)"
      ]
     },
     "execution_count": 70,
     "metadata": {},
     "output_type": "execute_result"
    }
   ],
   "source": [
    "datetime.datetime.now()"
   ]
  },
  {
   "cell_type": "code",
   "execution_count": 75,
   "metadata": {},
   "outputs": [],
   "source": [
    "time_to_sundown = local_sunset.replace(tzinfo=None)-datetime.datetime.now()\n",
    "time_since_sunup = datetime.datetime.now() - local_sunrise.replace(tzinfo=None)"
   ]
  },
  {
   "cell_type": "code",
   "execution_count": 77,
   "metadata": {},
   "outputs": [
    {
     "data": {
      "text/plain": [
       "True"
      ]
     },
     "execution_count": 77,
     "metadata": {},
     "output_type": "execute_result"
    }
   ],
   "source": [
    "time_to_sundown > datetime.timedelta(hours=-0.5)"
   ]
  },
  {
   "cell_type": "code",
   "execution_count": 82,
   "metadata": {},
   "outputs": [],
   "source": [
    "import datetime\n",
    "from astral.sun import sun\n",
    "from astral import LocationInfo\n",
    "\n",
    "\n",
    "def sun_up():\n",
    "    \"\"\"is the sun up this hour? (assumes location is Portland, OR, USA)\"\"\"\n",
    "    city = LocationInfo(\"Portland\", \"OR, USA\", \"US/Pacific\", 45.5051, 122.6750)\n",
    "    s = sun(city.observer, date=(datetime.datetime.today() + datetime.timedelta(days=1)), tzinfo=city.timezone)\n",
    "    local_sunrise = (s['sunrise'] - datetime.timedelta(hours=8)).replace(tzinfo=None)\n",
    "    local_sunset = (s['sunset'] - datetime.timedelta(hours=8)).replace(tzinfo=None)\n",
    "    time_to_sundown = local_sunset - datetime.datetime.now()\n",
    "    time_since_sunup = datetime.datetime.now() - local_sunrise\n",
    "    overlap = datetime.timedelta(hours=-0.5)\n",
    "    return (time_since_sunup > overlap) & (time_to_sundown > overlap)"
   ]
  },
  {
   "cell_type": "code",
   "execution_count": 83,
   "metadata": {},
   "outputs": [
    {
     "data": {
      "text/plain": [
       "True"
      ]
     },
     "execution_count": 83,
     "metadata": {},
     "output_type": "execute_result"
    }
   ],
   "source": [
    "sun_up()"
   ]
  },
  {
   "cell_type": "markdown",
   "metadata": {},
   "source": [
    "## Check memory usage"
   ]
  },
  {
   "cell_type": "code",
   "execution_count": 84,
   "metadata": {},
   "outputs": [],
   "source": [
    "import os\n",
    "\n",
    "def get_size(start_path = '.'):\n",
    "    total_size = 0\n",
    "    for dirpath, dirnames, filenames in os.walk(start_path):\n",
    "        for f in filenames:\n",
    "            fp = os.path.join(dirpath, f)\n",
    "            # skip if it is symbolic link\n",
    "            if not os.path.islink(fp):\n",
    "                total_size += os.path.getsize(fp)\n",
    "\n",
    "    return total_size"
   ]
  },
  {
   "cell_type": "code",
   "execution_count": 87,
   "metadata": {},
   "outputs": [
    {
     "data": {
      "text/plain": [
       "2922"
      ]
     },
     "execution_count": 87,
     "metadata": {},
     "output_type": "execute_result"
    }
   ],
   "source": [
    "path = 'logs/'\n",
    "get_size(path)"
   ]
  },
  {
   "cell_type": "code",
   "execution_count": null,
   "metadata": {},
   "outputs": [],
   "source": []
  }
 ],
 "metadata": {
  "kernelspec": {
   "display_name": "Python 3",
   "language": "python",
   "name": "python3"
  },
  "language_info": {
   "codemirror_mode": {
    "name": "ipython",
    "version": 3
   },
   "file_extension": ".py",
   "mimetype": "text/x-python",
   "name": "python",
   "nbconvert_exporter": "python",
   "pygments_lexer": "ipython3",
   "version": "3.7.0"
  }
 },
 "nbformat": 4,
 "nbformat_minor": 2
}
