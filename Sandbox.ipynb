{
 "cells": [
  {
   "cell_type": "markdown",
   "metadata": {},
   "source": [
    "### Test out 'Collection' framework"
   ]
  },
  {
   "cell_type": "code",
   "execution_count": 3,
   "metadata": {},
   "outputs": [],
   "source": [
    "import random\n",
    "\n",
    "\n",
    "def flip(H, T, p):\n",
    "    return H if random.random() < p else T\n",
    "\n",
    "\n",
    "def stream_gen():\n",
    "    \"\"\"\n",
    "    Generator Function:\n",
    "    Simulate output from the inference machine on the video stream\n",
    "    \"\"\"\n",
    "    birbs = ['American Coot', 'Canvasback', 'Gadwall', 'Ring-necked Duck', 'Wood Duck', 'American Kestral',\n",
    "            'Coopers Hawk', 'Red-tailed Hawk', 'Rufous Hummingbird', 'American Robin', 'American Bittern', \n",
    "            'Great Egret', 'Black-capped Chickadee', 'Bushtit', 'Common Yellowthroat', 'Dark-eyed Junco', \n",
    "            'Golden-crowned Kinglet', 'Marsh Wren', 'Pine Siskin', 'Orange-crowned Warbler', 'House Finch',\n",
    "            'Scrub Jay', 'Townsends Warbler', 'Winter Wren', 'Yellow Warbler', 'Barn Swallow', 'Flicker',\n",
    "            'Pileated Woodpecker', 'Grouse', 'Pheasant', 'Tree Swallow', 'Swift', 'Olive-eyed Flycatcher']\n",
    "    last_birb = birbs[0]\n",
    "    random.seed(42)\n",
    "    while True:\n",
    "        random_birb = random.choice(birbs)\n",
    "        output_birb = flip(last_birb, random_birb, 0.65)\n",
    "        last_birb = output_birb\n",
    "        output_prob = random.random()*0.5 + 0.5\n",
    "        yield (output_birb, output_prob)"
   ]
  },
  {
   "cell_type": "code",
   "execution_count": 4,
   "metadata": {},
   "outputs": [
    {
     "name": "stdout",
     "output_type": "stream",
     "text": [
      "('American Coot', 0.6375146591845596)\n",
      "('American Coot', 0.5512475880857537)\n",
      "('American Coot', 0.5158913397408917)\n",
      "('American Coot', 0.7526776440516811)\n",
      "('American Coot', 0.8580098064612017)\n",
      "('American Coot', 0.7946328419379544)\n",
      "('American Coot', 0.579829658188445)\n",
      "('American Coot', 0.5777397499058907)\n",
      "('American Coot', 0.6899636503186687)\n",
      "('Townsends Warbler', 0.8018630156834455)\n",
      "('Gadwall', 0.7681140457273503)\n",
      "('Gadwall', 0.6465891407035464)\n",
      "('Gadwall', 0.8522859181074618)\n",
      "('Gadwall', 0.8865341703943459)\n",
      "('American Kestral', 0.9332418333776349)\n",
      "('American Kestral', 0.8178422221322001)\n",
      "('American Kestral', 0.6776353501137607)\n",
      "('Marsh Wren', 0.8417738327683336)\n",
      "('Marsh Wren', 0.5855693240990485)\n",
      "('Marsh Wren', 0.689727720878824)\n",
      "('Common Yellowthroat', 0.9214259600949049)\n",
      "('Common Yellowthroat', 0.5160501219520188)\n",
      "('Common Yellowthroat', 0.5330943026057736)\n",
      "('Common Yellowthroat', 0.7496156297461387)\n",
      "('Common Yellowthroat', 0.5698151597627532)\n"
     ]
    }
   ],
   "source": [
    "import time\n",
    "stream = stream_gen()\n",
    "\n",
    "for i in range(25):\n",
    "    print(next(stream))\n",
    "    time.sleep(0.1)"
   ]
  },
  {
   "cell_type": "code",
   "execution_count": 11,
   "metadata": {},
   "outputs": [
    {
     "name": "stdout",
     "output_type": "stream",
     "text": [
      "deque(['Black-capped Chickadee', 'American Coot', 'Coopers Hawk', 'Coopers Hawk', 'Coopers Hawk', 'House Finch', 'House Finch', 'Grouse', 'Grouse', 'Marsh Wren', 'Marsh Wren', 'Marsh Wren', 'Marsh Wren', 'American Robin', 'American Robin', 'American Robin', 'Canvasback', 'Canvasback', 'Orange-crowned Warbler', 'Orange-crowned Warbler', 'Orange-crowned Warbler', 'Orange-crowned Warbler', 'Barn Swallow', 'Rufous Hummingbird', 'Rufous Hummingbird', 'Rufous Hummingbird', 'Rufous Hummingbird', 'Rufous Hummingbird', 'Rufous Hummingbird', 'Rufous Hummingbird', 'Canvasback', 'Canvasback', 'Gadwall', 'Black-capped Chickadee', 'Black-capped Chickadee', 'Black-capped Chickadee', 'Black-capped Chickadee', 'Red-tailed Hawk', 'Red-tailed Hawk', 'Red-tailed Hawk', 'Red-tailed Hawk', 'Red-tailed Hawk', 'Red-tailed Hawk', 'Red-tailed Hawk', 'Red-tailed Hawk', 'Red-tailed Hawk', 'American Coot', 'American Coot', 'Pheasant', 'Pheasant'], maxlen=50)\n"
     ]
    }
   ],
   "source": [
    "import collections\n",
    "\n",
    "collector = collections.deque([], maxlen=50)\n",
    "\n",
    "for i in range(55):\n",
    "    collector.append(next(stream)[0])\n",
    "\n",
    "print(collector)"
   ]
  },
  {
   "cell_type": "code",
   "execution_count": 12,
   "metadata": {},
   "outputs": [
    {
     "data": {
      "text/plain": [
       "5"
      ]
     },
     "execution_count": 12,
     "metadata": {},
     "output_type": "execute_result"
    }
   ],
   "source": [
    "collector.count(collector[0])"
   ]
  },
  {
   "cell_type": "markdown",
   "metadata": {},
   "source": [
    "### Create Filter/Switch to trigger logging"
   ]
  },
  {
   "cell_type": "code",
   "execution_count": 44,
   "metadata": {},
   "outputs": [
    {
     "name": "stdout",
     "output_type": "stream",
     "text": [
      "('Pileated Woodpecker', 6)\n"
     ]
    }
   ],
   "source": [
    "#adjustable logging rate\n",
    "#adjustable measure(s) of confidence\n",
    "\n",
    "\n",
    "def there_is_a():\n",
    "    cnt = collections.Counter()\n",
    "    for (name, conf) in collector:\n",
    "        if conf > 0.65: cnt[name] += 1\n",
    "    most_common = cnt.most_common(1)\n",
    "    if most_common[0][0] != 'background' and most_common[0][1] > 4:\n",
    "        return most_common[0]\n",
    "    else:\n",
    "        return False\n",
    "\n",
    "result = there_is_a()\n",
    "\n",
    "print(result)"
   ]
  },
  {
   "cell_type": "markdown",
   "metadata": {},
   "source": [
    "### Data Logger"
   ]
  },
  {
   "cell_type": "code",
   "execution_count": null,
   "metadata": {},
   "outputs": [],
   "source": []
  }
 ],
 "metadata": {
  "kernelspec": {
   "display_name": "Python 3",
   "language": "python",
   "name": "python3"
  },
  "language_info": {
   "codemirror_mode": {
    "name": "ipython",
    "version": 3
   },
   "file_extension": ".py",
   "mimetype": "text/x-python",
   "name": "python",
   "nbconvert_exporter": "python",
   "pygments_lexer": "ipython3",
   "version": "3.6.4"
  }
 },
 "nbformat": 4,
 "nbformat_minor": 2
}
