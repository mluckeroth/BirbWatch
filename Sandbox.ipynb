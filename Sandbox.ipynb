{
 "cells": [
  {
   "cell_type": "markdown",
   "metadata": {},
   "source": [
    "### Test out 'Collection' framework"
   ]
  },
  {
   "cell_type": "code",
   "execution_count": 17,
   "metadata": {},
   "outputs": [],
   "source": [
    "import random\n",
    "\n",
    "\n",
    "def flip(H, T, p):\n",
    "    return H if random.random() < p else T\n",
    "\n",
    "\n",
    "def stream_gen():\n",
    "    \"\"\"\n",
    "    Generator Function:\n",
    "    Simulate output from the inference machine on the video stream\n",
    "    \"\"\"\n",
    "    birbs = ['American Coot', 'Canvasback', 'Gadwall', 'Ring-necked Duck', 'Wood Duck', 'American Kestral',\n",
    "            'Coopers Hawk', 'Red-tailed Hawk', 'Rufous Hummingbird', 'American Robin', 'American Bittern', \n",
    "            'Great Egret', 'Black-capped Chickadee', 'Bushtit', 'Common Yellowthroat', 'Dark-eyed Junco', \n",
    "            'Golden-crowned Kinglet', 'Marsh Wren', 'Pine Siskin', 'Orange-crowned Warbler', 'House Finch',\n",
    "            'Scrub Jay', 'Townsends Warbler', 'Winter Wren', 'Yellow Warbler', 'Barn Swallow', 'Flicker',\n",
    "            'Pileated Woodpecker', 'Grouse', 'Pheasant', 'Tree Swallow', 'Swift', 'Olive-eyed Flycatcher']\n",
    "    last_birb = birbs[0]\n",
    "    random.seed(42)\n",
    "    while True:\n",
    "        random_birb = random.choice(birbs)\n",
    "        output_birb = flip(last_birb, random_birb, 0.85)\n",
    "        last_birb = output_birb\n",
    "        output_prob = random.random()*0.5 + 0.5\n",
    "        yield (output_birb, output_prob)"
   ]
  },
  {
   "cell_type": "code",
   "execution_count": 18,
   "metadata": {},
   "outputs": [
    {
     "name": "stdout",
     "output_type": "stream",
     "text": [
      "('American Coot', 0.6375146591845596)\n",
      "('American Coot', 0.5512475880857537)\n",
      "('American Coot', 0.5158913397408917)\n",
      "('American Coot', 0.7526776440516811)\n",
      "('American Coot', 0.8580098064612017)\n",
      "('American Coot', 0.7946328419379544)\n",
      "('American Coot', 0.579829658188445)\n",
      "('American Coot', 0.5777397499058907)\n",
      "('American Coot', 0.6899636503186687)\n",
      "('American Coot', 0.8018630156834455)\n",
      "('American Coot', 0.7681140457273503)\n",
      "('American Coot', 0.6465891407035464)\n",
      "('American Coot', 0.8522859181074618)\n",
      "('American Coot', 0.8865341703943459)\n",
      "('American Kestral', 0.9332418333776349)\n",
      "('American Kestral', 0.8178422221322001)\n",
      "('American Kestral', 0.6776353501137607)\n",
      "('American Kestral', 0.8417738327683336)\n",
      "('American Kestral', 0.5855693240990485)\n",
      "('American Kestral', 0.689727720878824)\n",
      "('American Kestral', 0.9214259600949049)\n",
      "('American Kestral', 0.5160501219520188)\n",
      "('American Kestral', 0.5330943026057736)\n",
      "('American Kestral', 0.7496156297461387)\n",
      "('American Kestral', 0.5698151597627532)\n"
     ]
    }
   ],
   "source": [
    "import time\n",
    "stream = stream_gen()\n",
    "\n",
    "for i in range(25):\n",
    "    print(next(stream))\n",
    "    time.sleep(0.1)"
   ]
  },
  {
   "cell_type": "code",
   "execution_count": 25,
   "metadata": {},
   "outputs": [
    {
     "name": "stdout",
     "output_type": "stream",
     "text": [
      "deque([('Swift', 0.500575533724056), ('Swift', 0.5937912706972636), ('Swift', 0.7492465511910943), ('Swift', 0.6017791191751369), ('Rufous Hummingbird', 0.7190580475361892), ('Rufous Hummingbird', 0.9865734079108472), ('Rufous Hummingbird', 0.6553750691966675), ('Rufous Hummingbird', 0.5466046006407612), ('Rufous Hummingbird', 0.5587330745447787), ('Rufous Hummingbird', 0.8583016629958955), ('Rufous Hummingbird', 0.7077451714676766), ('Tree Swallow', 0.6218654530375691), ('Tree Swallow', 0.9609340749657809), ('Tree Swallow', 0.5682541722954323), ('Tree Swallow', 0.8950030910015567), ('Tree Swallow', 0.8938587028821471), ('Tree Swallow', 0.6414194916414133), ('Tree Swallow', 0.7899616919417021), ('Swift', 0.7232736965215972), ('Swift', 0.7759587085354055), ('Swift', 0.6608886751145187), ('Black-capped Chickadee', 0.6194027720831247), ('Black-capped Chickadee', 0.8877722375496294), ('Black-capped Chickadee', 0.7364881251202071), ('Black-capped Chickadee', 0.8318444147422673), ('Black-capped Chickadee', 0.5185098056727881), ('Olive-eyed Flycatcher', 0.6659973519656819), ('Coopers Hawk', 0.7201531048853386), ('Coopers Hawk', 0.5720777079834738), ('Coopers Hawk', 0.8907626456365124), ('Coopers Hawk', 0.846352299293441), ('American Kestral', 0.9261706682829465), ('Yellow Warbler', 0.8133995895039938), ('Swift', 0.5179495499188433), ('Swift', 0.8421997872029583), ('Pine Siskin', 0.8733831833689635), ('Pileated Woodpecker', 0.8801848464971327), ('Pileated Woodpecker', 0.8470005813966173), ('Pileated Woodpecker', 0.8980717325811058), ('Pileated Woodpecker', 0.7153433939277001), ('Pileated Woodpecker', 0.7829640309579684), ('Pileated Woodpecker', 0.5394841753299973), ('Pileated Woodpecker', 0.6204148959281566), ('Pileated Woodpecker', 0.8189523155017843), ('Pileated Woodpecker', 0.5046987157274355), ('Pheasant', 0.8388054428495397), ('Pheasant', 0.972617817467323), ('Pheasant', 0.7121544692304489), ('Pheasant', 0.6510608352691568), ('Yellow Warbler', 0.5533266337111804)], maxlen=50)\n"
     ]
    }
   ],
   "source": [
    "import collections\n",
    "\n",
    "collector = collections.deque([], maxlen=50)\n",
    "\n",
    "for i in range(55):\n",
    "    collector.append(next(stream))\n",
    "\n",
    "print(collector)"
   ]
  },
  {
   "cell_type": "markdown",
   "metadata": {},
   "source": [
    "### Create Filter/Switch to trigger logging"
   ]
  },
  {
   "cell_type": "code",
   "execution_count": 44,
   "metadata": {},
   "outputs": [
    {
     "name": "stdout",
     "output_type": "stream",
     "text": [
      "('Pileated Woodpecker', 6)\n"
     ]
    }
   ],
   "source": [
    "#adjustable logging rate\n",
    "#adjustable measure(s) of confidence\n",
    "\n",
    "\n",
    "def there_is_a():\n",
    "    cnt = collections.Counter()\n",
    "    for (name, conf) in collector:\n",
    "        if conf > 0.65: cnt[name] += 1\n",
    "    most_common = cnt.most_common(1)\n",
    "    if most_common[0][0] != 'background' and most_common[0][1] > 4:\n",
    "        return most_common[0]\n",
    "    else:\n",
    "        return False\n",
    "\n",
    "result = there_is_a()\n",
    "\n",
    "print(result)"
   ]
  },
  {
   "cell_type": "markdown",
   "metadata": {},
   "source": [
    "### Data Logger"
   ]
  },
  {
   "cell_type": "code",
   "execution_count": null,
   "metadata": {},
   "outputs": [],
   "source": []
  }
 ],
 "metadata": {
  "kernelspec": {
   "display_name": "Python 3",
   "language": "python",
   "name": "python3"
  },
  "language_info": {
   "codemirror_mode": {
    "name": "ipython",
    "version": 3
   },
   "file_extension": ".py",
   "mimetype": "text/x-python",
   "name": "python",
   "nbconvert_exporter": "python",
   "pygments_lexer": "ipython3",
   "version": "3.6.4"
  }
 },
 "nbformat": 4,
 "nbformat_minor": 2
}
